{
 "cells": [
  {
   "cell_type": "markdown",
   "metadata": {},
   "source": [
    "#3.1"
   ]
  },
  {
   "cell_type": "code",
   "execution_count": null,
   "metadata": {},
   "outputs": [],
   "source": [
    "import pandas as pd\n",
    "stocks1=pd.read_csv(\"DATA/stocks1.csv\")\n",
    "print(\"hien thi 5 dong\", stocks1.head())\n",
    "print(\"kieu du lieu:\",stocks1.dtypes)\n",
    "print(\"thong tin\", stocks1.info())\n",
    "\n"
   ]
  },
  {
   "cell_type": "markdown",
   "metadata": {},
   "source": [
    "#3.2"
   ]
  },
  {
   "cell_type": "code",
   "execution_count": null,
   "metadata": {},
   "outputs": [],
   "source": [
    "if 'high' in stocks1.columns:\n",
    "    mean_high = stocks1['high'].mean()\n",
    "    stocks1['high'].fillna(mean_high, inplace=True)\n",
    "if 'low' in stocks1.columns:\n",
    "    mean_low = stocks1['low'].mean()\n",
    "    stocks1['low'].fillna(mean_low, inplace=True)\n",
    "print(stocks1.isnull().sum())\n",
    "print(stocks1.info())\n",
    "\n",
    "\n",
    "\n",
    "\n"
   ]
  },
  {
   "cell_type": "markdown",
   "metadata": {},
   "source": [
    "#3.3"
   ]
  },
  {
   "cell_type": "code",
   "execution_count": null,
   "metadata": {},
   "outputs": [],
   "source": [
    "stocks2=pd.read_csv('DATA/stocks2.csv')\n",
    "stocks=pd.concat([stocks1, stocks2], ignore_index=True)\n",
    "average_prices = stocks.groupby('date')[['open', 'high', 'low', 'close']].mean()\n",
    "print(average_prices.head())"
   ]
  },
  {
   "cell_type": "markdown",
   "metadata": {},
   "source": [
    "#3.4"
   ]
  },
  {
   "cell_type": "code",
   "execution_count": null,
   "metadata": {},
   "outputs": [],
   "source": [
    "companles=pd.read_csv('DATA/companies.csv')\n",
    "print(companles.head())\n",
    "merged_data = pd.merge(stocks, companles, left_on='symbol', right_on='name', how='inner')\n",
    "average_close_per_company = merged_data.groupby('symbol')['close'].mean()\n",
    "print(average_close_per_company.head())"
   ]
  },
  {
   "cell_type": "markdown",
   "metadata": {},
   "source": [
    "#3.5"
   ]
  },
  {
   "cell_type": "code",
   "execution_count": null,
   "metadata": {},
   "outputs": [],
   "source": [
    "stocks.set_index(['date', 'symbol'], inplace=True)\n",
    "aggregated_data = stocks.groupby(['date', 'symbol']).mean()\n",
    "aggregated_data.sort_index(inplace=True)\n",
    "print(aggregated_data.head(5))\n"
   ]
  },
  {
   "cell_type": "markdown",
   "metadata": {},
   "source": [
    "#3.6"
   ]
  },
  {
   "cell_type": "code",
   "execution_count": null,
   "metadata": {},
   "outputs": [],
   "source": [
    "pivot_table = stocks.reset_index().pivot_table(values='close', index='date', columns='symbol', aggfunc='mean')\n",
    "total_volume = stocks.groupby('symbol')['volume'].sum()\n",
    "sorted_symbols = total_volume.sort_values(ascending=False).index\n",
    "sorted_pivot_table = pivot_table[sorted_symbols]\n",
    "print(\"\\nKết quả Pivot Table cho 5 mã chứng khoán có tổng volume giao dịch cao nhất:\")\n",
    "print(sorted_pivot_table.iloc[:, :5].head())"
   ]
  }
 ],
 "metadata": {
  "kernelspec": {
   "display_name": "Python 3",
   "language": "python",
   "name": "python3"
  },
  "language_info": {
   "name": "python",
   "version": "3.10.7"
  }
 },
 "nbformat": 4,
 "nbformat_minor": 2
}
